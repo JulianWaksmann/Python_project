{
 "cells": [
  {
   "cell_type": "code",
   "execution_count": 11,
   "metadata": {},
   "outputs": [
    {
     "data": {
      "text/plain": [
       "'\\nprueba = open(\\'lemario.txt\\', \\'r\\')\\n\\nlista= []\\n\\nprueba1= prueba.readline()\\n\\nwhile prueba1 != \"\":\\n    lista.append(prueba1[:-1])\\n    prueba1 = prueba.readline()\\n    \\nprueba.close()\\n'"
      ]
     },
     "execution_count": 11,
     "metadata": {},
     "output_type": "execute_result"
    }
   ],
   "source": [
    "\"\"\"\n",
    "prueba = open('lemario.txt', 'r')\n",
    "\n",
    "lista= []\n",
    "\n",
    "prueba1= prueba.readline()\n",
    "\n",
    "while prueba1 != \"\":\n",
    "    lista.append(prueba1[:-1])\n",
    "    prueba1 = prueba.readline()\n",
    "    \n",
    "prueba.close()\n",
    "\"\"\""
   ]
  },
  {
   "cell_type": "code",
   "execution_count": 12,
   "metadata": {},
   "outputs": [
    {
     "name": "stdout",
     "output_type": "stream",
     "text": [
      "[]\n"
     ]
    }
   ],
   "source": [
    "print(lista)"
   ]
  },
  {
   "cell_type": "code",
   "execution_count": 13,
   "metadata": {},
   "outputs": [
    {
     "data": {
      "text/plain": [
       "'\\nprueba= open(\\'pruebalemario.txt\\', \\'r\\')\\nseleccion= prueba.readline()\\nliste= []\\n\\nwhile seleccion != \"\":     #Defino que Mientras hayan palabras se ejecute el while \\n    liste.append(seleccion[:-1])\\n    seleccion = prueba.readline()\\nprueba.close\\n'"
      ]
     },
     "execution_count": 13,
     "metadata": {},
     "output_type": "execute_result"
    }
   ],
   "source": [
    "\"\"\"\n",
    "prueba= open('pruebalemario.txt', 'r')\n",
    "seleccion= prueba.readline()\n",
    "liste= []\n",
    "\n",
    "while seleccion != \"\":     #Defino que Mientras hayan palabras se ejecute el while \n",
    "    liste.append(seleccion[:-1])\n",
    "    seleccion = prueba.readline()\n",
    "prueba.close\n",
    "\"\"\""
   ]
  },
  {
   "cell_type": "code",
   "execution_count": 14,
   "metadata": {},
   "outputs": [],
   "source": [
    "import funcionesSeparador as fs\n",
    "import random\n",
    "lista= [\"hola\", \"como\"]"
   ]
  },
  {
   "cell_type": "code",
   "execution_count": 15,
   "metadata": {},
   "outputs": [
    {
     "data": {
      "text/plain": [
       "'ho-la'"
      ]
     },
     "execution_count": 15,
     "metadata": {},
     "output_type": "execute_result"
    }
   ],
   "source": [
    "fs.separador(\"hola\")"
   ]
  },
  {
   "cell_type": "code",
   "execution_count": 28,
   "metadata": {},
   "outputs": [],
   "source": [
    "def cambio_espacio (palabraseparadaensilabas):\n",
    "    nueva_separada= \"\"\n",
    "    for caracter in palabraseparadaensilabas:\n",
    "        if caracter != \" \":\n",
    "            nueva_separada = nueva_separada + caracter\n",
    "        else:\n",
    "            nueva_separada = nueva_separada + \"-\"\n",
    "    return nueva_separada"
   ]
  },
  {
   "cell_type": "code",
   "execution_count": 29,
   "metadata": {},
   "outputs": [],
   "source": [
    "def nuevaPalabra(lista):\n",
    "    return random.choice(lista)\n",
    "\n",
    "def silabasTOpalabra(silaba):\n",
    "    palabra_separada= \"\"\n",
    "    for caracter in silaba:\n",
    "        if caracter != \" \" and caracter != \"-\":\n",
    "            palabra_separada= palabra_separada + caracter\n",
    "    return palabra_separada\n",
    "\n",
    "def palabraTOsilaba(palabra):\n",
    "    return fs.separador(palabra)\n",
    "    \n",
    "def esCorrecta(palabraEnSilabasEnPantalla, palabra):\n",
    "    if cambio_espacio(palabra) == palabraEnSilabasEnPantalla:\n",
    "        return True\n",
    "    else:\n",
    "        return False"
   ]
  },
  {
   "cell_type": "code",
   "execution_count": 30,
   "metadata": {},
   "outputs": [
    {
     "data": {
      "text/plain": [
       "True"
      ]
     },
     "execution_count": 30,
     "metadata": {},
     "output_type": "execute_result"
    }
   ],
   "source": [
    "esCorrecta(\"ho-la\", \"ho la\")"
   ]
  },
  {
   "cell_type": "code",
   "execution_count": 2,
   "metadata": {},
   "outputs": [
    {
     "name": "stdout",
     "output_type": "stream",
     "text": [
      "pygame 2.1.2 (SDL 2.0.18, Python 3.9.7)\n",
      "Hello from the pygame community. https://www.pygame.org/contribute.html\n"
     ]
    }
   ],
   "source": [
    "import pygame as pg"
   ]
  },
  {
   "cell_type": "code",
   "execution_count": 39,
   "metadata": {},
   "outputs": [
    {
     "name": "stdout",
     "output_type": "stream",
     "text": [
      "el codigo de la letra ñ es : 241\n",
      "el codigo de la letra á es : 225\n",
      "el codigo de la letra é es : 233\n",
      "el codigo de la letra í es : 237\n",
      "el codigo de la letra ó es : 243\n",
      "el codigo de la letra ú es : 250\n"
     ]
    }
   ],
   "source": [
    "print('el codigo de la letra ñ es :', pg.key.key_code('ñ'))\n",
    "print('el codigo de la letra á es :', pg.key.key_code('á'))\n",
    "print('el codigo de la letra é es :', pg.key.key_code('é'))\n",
    "print('el codigo de la letra í es :', pg.key.key_code('í'))\n",
    "print('el codigo de la letra ó es :', pg.key.key_code('ó'))\n",
    "print('el codigo de la letra ú es :', pg.key.key_code('ú'))\n",
    "\n"
   ]
  },
  {
   "cell_type": "code",
   "execution_count": 3,
   "metadata": {},
   "outputs": [
    {
     "name": "stdout",
     "output_type": "stream",
     "text": [
      "el codigo de la letra ñ es : 241\n",
      "el codigo del caracter - es : 45\n"
     ]
    }
   ],
   "source": [
    "print('el codigo de la letra ñ es :', pg.key.key_code('ñ'))\n",
    "print('el codigo del caracter - es :', pg.key.key_code('-'))"
   ]
  }
 ],
 "metadata": {
  "interpreter": {
   "hash": "11ed508424fbd8270d03fafc9233c70b9208c72ff68f47ab22c1d6f7ebf426a6"
  },
  "kernelspec": {
   "display_name": "Python 3.9.7 ('base')",
   "language": "python",
   "name": "python3"
  },
  "language_info": {
   "codemirror_mode": {
    "name": "ipython",
    "version": 3
   },
   "file_extension": ".py",
   "mimetype": "text/x-python",
   "name": "python",
   "nbconvert_exporter": "python",
   "pygments_lexer": "ipython3",
   "version": "3.9.7"
  },
  "orig_nbformat": 4
 },
 "nbformat": 4,
 "nbformat_minor": 2
}
